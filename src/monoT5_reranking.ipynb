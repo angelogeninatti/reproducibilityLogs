{
 "cells": [
  {
   "cell_type": "code",
   "execution_count": null,
   "metadata": {},
   "outputs": [],
   "source": [
    "from google.colab import drive\n",
    "drive.mount('/content/drive')"
   ]
  },
  {
   "cell_type": "code",
   "execution_count": null,
   "metadata": {},
   "outputs": [],
   "source": [
    "!pip install python-terrier\n",
    "!pip install --upgrade git+https://github.com/terrierteam/pyterrier_t5.git"
   ]
  },
  {
   "cell_type": "code",
   "execution_count": null,
   "metadata": {},
   "outputs": [],
   "source": [
    "import os \n",
    "import pandas as pd\n",
    "import pyterrier as pt\n",
    "from pyterrier_t5 import MonoT5ReRanker\n",
    "\n",
    "if not pt.started():\n",
    "  pt.init()\n",
    "\n",
    "gdrive_path = 'drive/MyDrive/timo'\n",
    "batch_size = 4\n",
    "monoT5 = MonoT5ReRanker(batch_size=batch_size)\n",
    "\n",
    "B = [round(0.2 + 0.05 * i, 3) for i in range(0,13)]\n",
    "K1 = [round(0.5 + 0.05 * i, 3) for i in range(0,13)]\n",
    "\n",
    "for b in B:\n",
    "    for k1 in K1:\n",
    "        bm25_file = 'bm25_{}_{}.csv'.format(str(b), str(k1))\n",
    "        csv_path = os.path.join(gdrive_path, 'csv', bm25_file)\n",
    "        run = pd.read_csv(csv_path)\n",
    "        run_monoT5 = monoT5.transform(run)\n",
    "        run_monoT5 = run_monoT5.sort_values(['qid','score'], ascending=False).groupby('qid').head(1000)\n",
    "        monoT5_file = 'monoT5_{}_bm25_{}_{}.txt'.format(str(batch_size), str(b), str(k1))\n",
    "        monoT5_path = os.path.join(gdrive_path, 'monoT5', monoT5_file)\n",
    "        pt.io.write_results(run_monoT5, monoT5_path, format='trec',run_name=monoT5_file[:-4])"
   ]
  }
 ],
 "metadata": {
  "language_info": {
   "name": "python"
  }
 },
 "nbformat": 4,
 "nbformat_minor": 2
}
